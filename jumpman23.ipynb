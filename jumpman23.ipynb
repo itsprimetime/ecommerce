{
 "cells": [
  {
   "cell_type": "markdown",
   "metadata": {},
   "source": [
    "## Jumpman Exercises"
   ]
  },
  {
   "cell_type": "code",
   "execution_count": 1,
   "metadata": {},
   "outputs": [],
   "source": [
    "import pandas as pd, requests\n",
    "import numpy as np\n",
    "import matplotlib.pyplot as plt\n",
    "\n",
    "%matplotlib inline"
   ]
  },
  {
   "cell_type": "code",
   "execution_count": 2,
   "metadata": {},
   "outputs": [],
   "source": [
    "df = pd.read_csv('../Postmates/data/analyze_me.csv')"
   ]
  },
  {
   "cell_type": "code",
   "execution_count": 3,
   "metadata": {},
   "outputs": [
    {
     "data": {
      "text/plain": [
       "(5983, 18)"
      ]
     },
     "execution_count": 3,
     "metadata": {},
     "output_type": "execute_result"
    }
   ],
   "source": [
    "df.shape"
   ]
  },
  {
   "cell_type": "code",
   "execution_count": 4,
   "metadata": {},
   "outputs": [
    {
     "data": {
      "text/html": [
       "<div>\n",
       "<style scoped>\n",
       "    .dataframe tbody tr th:only-of-type {\n",
       "        vertical-align: middle;\n",
       "    }\n",
       "\n",
       "    .dataframe tbody tr th {\n",
       "        vertical-align: top;\n",
       "    }\n",
       "\n",
       "    .dataframe thead th {\n",
       "        text-align: right;\n",
       "    }\n",
       "</style>\n",
       "<table border=\"1\" class=\"dataframe\">\n",
       "  <thead>\n",
       "    <tr style=\"text-align: right;\">\n",
       "      <th></th>\n",
       "      <th>delivery_id</th>\n",
       "      <th>customer_id</th>\n",
       "      <th>jumpman_id</th>\n",
       "      <th>vehicle_type</th>\n",
       "      <th>pickup_place</th>\n",
       "      <th>place_category</th>\n",
       "      <th>item_name</th>\n",
       "      <th>item_quantity</th>\n",
       "      <th>item_category_name</th>\n",
       "      <th>how_long_it_took_to_order</th>\n",
       "      <th>pickup_lat</th>\n",
       "      <th>pickup_lon</th>\n",
       "      <th>dropoff_lat</th>\n",
       "      <th>dropoff_lon</th>\n",
       "      <th>when_the_delivery_started</th>\n",
       "      <th>when_the_Jumpman_arrived_at_pickup</th>\n",
       "      <th>when_the_Jumpman_left_pickup</th>\n",
       "      <th>when_the_Jumpman_arrived_at_dropoff</th>\n",
       "    </tr>\n",
       "  </thead>\n",
       "  <tbody>\n",
       "    <tr>\n",
       "      <th>0</th>\n",
       "      <td>1457973</td>\n",
       "      <td>327168</td>\n",
       "      <td>162381</td>\n",
       "      <td>van</td>\n",
       "      <td>Melt Shop</td>\n",
       "      <td>American</td>\n",
       "      <td>Lemonade</td>\n",
       "      <td>1.0</td>\n",
       "      <td>Beverages</td>\n",
       "      <td>00:19:58.582052</td>\n",
       "      <td>40.744607</td>\n",
       "      <td>-73.990742</td>\n",
       "      <td>40.752073</td>\n",
       "      <td>-73.985370</td>\n",
       "      <td>2014-10-26 13:51:59.898924</td>\n",
       "      <td>NaN</td>\n",
       "      <td>NaN</td>\n",
       "      <td>2014-10-26 14:52:06.313088</td>\n",
       "    </tr>\n",
       "    <tr>\n",
       "      <th>1</th>\n",
       "      <td>1377056</td>\n",
       "      <td>64452</td>\n",
       "      <td>104533</td>\n",
       "      <td>bicycle</td>\n",
       "      <td>Prince Street Pizza</td>\n",
       "      <td>Pizza</td>\n",
       "      <td>Neapolitan Rice Balls</td>\n",
       "      <td>3.0</td>\n",
       "      <td>Munchables</td>\n",
       "      <td>00:25:09.107093</td>\n",
       "      <td>40.723080</td>\n",
       "      <td>-73.994615</td>\n",
       "      <td>40.719722</td>\n",
       "      <td>-73.991858</td>\n",
       "      <td>2014-10-16 21:58:58.65491</td>\n",
       "      <td>2014-10-16 22:26:02.120931</td>\n",
       "      <td>2014-10-16 22:48:23.091253</td>\n",
       "      <td>2014-10-16 22:59:22.948873</td>\n",
       "    </tr>\n",
       "    <tr>\n",
       "      <th>2</th>\n",
       "      <td>1476547</td>\n",
       "      <td>83095</td>\n",
       "      <td>132725</td>\n",
       "      <td>bicycle</td>\n",
       "      <td>Bareburger</td>\n",
       "      <td>Burger</td>\n",
       "      <td>Bare Sodas</td>\n",
       "      <td>1.0</td>\n",
       "      <td>Drinks</td>\n",
       "      <td>00:06:44.541717</td>\n",
       "      <td>40.728478</td>\n",
       "      <td>-73.998392</td>\n",
       "      <td>40.728606</td>\n",
       "      <td>-73.995143</td>\n",
       "      <td>2014-10-28 21:39:52.654394</td>\n",
       "      <td>2014-10-28 21:37:18.793405</td>\n",
       "      <td>2014-10-28 21:59:09.98481</td>\n",
       "      <td>2014-10-28 22:04:40.634962</td>\n",
       "    </tr>\n",
       "    <tr>\n",
       "      <th>3</th>\n",
       "      <td>1485494</td>\n",
       "      <td>271149</td>\n",
       "      <td>157175</td>\n",
       "      <td>bicycle</td>\n",
       "      <td>Juice Press</td>\n",
       "      <td>Juice Bar</td>\n",
       "      <td>OMG! My Favorite Juice!</td>\n",
       "      <td>1.0</td>\n",
       "      <td>Cold Pressed Juices</td>\n",
       "      <td>NaN</td>\n",
       "      <td>40.738868</td>\n",
       "      <td>-74.002747</td>\n",
       "      <td>40.751257</td>\n",
       "      <td>-74.005634</td>\n",
       "      <td>2014-10-30 10:54:11.531894</td>\n",
       "      <td>2014-10-30 11:04:17.759577</td>\n",
       "      <td>2014-10-30 11:16:37.895816</td>\n",
       "      <td>2014-10-30 11:32:38.090061</td>\n",
       "    </tr>\n",
       "    <tr>\n",
       "      <th>4</th>\n",
       "      <td>1327707</td>\n",
       "      <td>122609</td>\n",
       "      <td>118095</td>\n",
       "      <td>bicycle</td>\n",
       "      <td>Blue Ribbon Sushi</td>\n",
       "      <td>Japanese</td>\n",
       "      <td>Spicy Tuna &amp; Tempura Flakes</td>\n",
       "      <td>2.0</td>\n",
       "      <td>Maki (Special Rolls)</td>\n",
       "      <td>00:03:45.035418</td>\n",
       "      <td>40.726110</td>\n",
       "      <td>-74.002492</td>\n",
       "      <td>40.709323</td>\n",
       "      <td>-74.015867</td>\n",
       "      <td>2014-10-10 00:07:18.450505</td>\n",
       "      <td>2014-10-10 00:14:42.702223</td>\n",
       "      <td>2014-10-10 00:25:19.400294</td>\n",
       "      <td>2014-10-10 00:48:27.150595</td>\n",
       "    </tr>\n",
       "  </tbody>\n",
       "</table>\n",
       "</div>"
      ],
      "text/plain": [
       "   delivery_id  customer_id  jumpman_id vehicle_type         pickup_place  \\\n",
       "0      1457973       327168      162381          van            Melt Shop   \n",
       "1      1377056        64452      104533      bicycle  Prince Street Pizza   \n",
       "2      1476547        83095      132725      bicycle           Bareburger   \n",
       "3      1485494       271149      157175      bicycle          Juice Press   \n",
       "4      1327707       122609      118095      bicycle    Blue Ribbon Sushi   \n",
       "\n",
       "  place_category                    item_name  item_quantity  \\\n",
       "0       American                     Lemonade            1.0   \n",
       "1          Pizza        Neapolitan Rice Balls            3.0   \n",
       "2         Burger                   Bare Sodas            1.0   \n",
       "3      Juice Bar      OMG! My Favorite Juice!            1.0   \n",
       "4       Japanese  Spicy Tuna & Tempura Flakes            2.0   \n",
       "\n",
       "     item_category_name how_long_it_took_to_order  pickup_lat  pickup_lon  \\\n",
       "0             Beverages           00:19:58.582052   40.744607  -73.990742   \n",
       "1            Munchables           00:25:09.107093   40.723080  -73.994615   \n",
       "2                Drinks           00:06:44.541717   40.728478  -73.998392   \n",
       "3   Cold Pressed Juices                       NaN   40.738868  -74.002747   \n",
       "4  Maki (Special Rolls)           00:03:45.035418   40.726110  -74.002492   \n",
       "\n",
       "   dropoff_lat  dropoff_lon   when_the_delivery_started  \\\n",
       "0    40.752073   -73.985370  2014-10-26 13:51:59.898924   \n",
       "1    40.719722   -73.991858   2014-10-16 21:58:58.65491   \n",
       "2    40.728606   -73.995143  2014-10-28 21:39:52.654394   \n",
       "3    40.751257   -74.005634  2014-10-30 10:54:11.531894   \n",
       "4    40.709323   -74.015867  2014-10-10 00:07:18.450505   \n",
       "\n",
       "  when_the_Jumpman_arrived_at_pickup when_the_Jumpman_left_pickup  \\\n",
       "0                                NaN                          NaN   \n",
       "1         2014-10-16 22:26:02.120931   2014-10-16 22:48:23.091253   \n",
       "2         2014-10-28 21:37:18.793405    2014-10-28 21:59:09.98481   \n",
       "3         2014-10-30 11:04:17.759577   2014-10-30 11:16:37.895816   \n",
       "4         2014-10-10 00:14:42.702223   2014-10-10 00:25:19.400294   \n",
       "\n",
       "  when_the_Jumpman_arrived_at_dropoff  \n",
       "0          2014-10-26 14:52:06.313088  \n",
       "1          2014-10-16 22:59:22.948873  \n",
       "2          2014-10-28 22:04:40.634962  \n",
       "3          2014-10-30 11:32:38.090061  \n",
       "4          2014-10-10 00:48:27.150595  "
      ]
     },
     "execution_count": 4,
     "metadata": {},
     "output_type": "execute_result"
    }
   ],
   "source": [
    "df.head()"
   ]
  },
  {
   "cell_type": "code",
   "execution_count": 5,
   "metadata": {},
   "outputs": [
    {
     "data": {
      "text/plain": [
       "delivery_id                               0\n",
       "customer_id                               0\n",
       "jumpman_id                                0\n",
       "vehicle_type                              0\n",
       "pickup_place                              0\n",
       "place_category                          883\n",
       "item_name                              1230\n",
       "item_quantity                          1230\n",
       "item_category_name                     1230\n",
       "how_long_it_took_to_order              2945\n",
       "pickup_lat                                0\n",
       "pickup_lon                                0\n",
       "dropoff_lat                               0\n",
       "dropoff_lon                               0\n",
       "when_the_delivery_started                 0\n",
       "when_the_Jumpman_arrived_at_pickup      550\n",
       "when_the_Jumpman_left_pickup            550\n",
       "when_the_Jumpman_arrived_at_dropoff       0\n",
       "dtype: int64"
      ]
     },
     "execution_count": 5,
     "metadata": {},
     "output_type": "execute_result"
    }
   ],
   "source": [
    "df.isna().sum()"
   ]
  },
  {
   "cell_type": "code",
   "execution_count": 6,
   "metadata": {},
   "outputs": [
    {
     "name": "stdout",
     "output_type": "stream",
     "text": [
      "<class 'pandas.core.frame.DataFrame'>\n",
      "RangeIndex: 5983 entries, 0 to 5982\n",
      "Data columns (total 18 columns):\n",
      "delivery_id                            5983 non-null int64\n",
      "customer_id                            5983 non-null int64\n",
      "jumpman_id                             5983 non-null int64\n",
      "vehicle_type                           5983 non-null object\n",
      "pickup_place                           5983 non-null object\n",
      "place_category                         5100 non-null object\n",
      "item_name                              4753 non-null object\n",
      "item_quantity                          4753 non-null float64\n",
      "item_category_name                     4753 non-null object\n",
      "how_long_it_took_to_order              3038 non-null object\n",
      "pickup_lat                             5983 non-null float64\n",
      "pickup_lon                             5983 non-null float64\n",
      "dropoff_lat                            5983 non-null float64\n",
      "dropoff_lon                            5983 non-null float64\n",
      "when_the_delivery_started              5983 non-null object\n",
      "when_the_Jumpman_arrived_at_pickup     5433 non-null object\n",
      "when_the_Jumpman_left_pickup           5433 non-null object\n",
      "when_the_Jumpman_arrived_at_dropoff    5983 non-null object\n",
      "dtypes: float64(5), int64(3), object(10)\n",
      "memory usage: 841.4+ KB\n"
     ]
    }
   ],
   "source": [
    "df.info()"
   ]
  },
  {
   "cell_type": "markdown",
   "metadata": {},
   "source": [
    "### Data Cleaning"
   ]
  },
  {
   "cell_type": "markdown",
   "metadata": {},
   "source": []
  },
  {
   "cell_type": "markdown",
   "metadata": {},
   "source": [
    "### Exploratory Data Analysis"
   ]
  },
  {
   "cell_type": "code",
   "execution_count": 7,
   "metadata": {},
   "outputs": [
    {
     "data": {
      "text/plain": [
       "count            5983\n",
       "unique            898\n",
       "top       Shake Shack\n",
       "freq              311\n",
       "Name: pickup_place, dtype: object"
      ]
     },
     "execution_count": 7,
     "metadata": {},
     "output_type": "execute_result"
    }
   ],
   "source": [
    "df.pickup_place.describe()"
   ]
  },
  {
   "cell_type": "code",
   "execution_count": 8,
   "metadata": {},
   "outputs": [
    {
     "data": {
      "text/plain": [
       "bicycle       4274\n",
       "car           1215\n",
       "walker         274\n",
       "van             76\n",
       "scooter         75\n",
       "truck           48\n",
       "motorcycle      21\n",
       "Name: vehicle_type, dtype: int64"
      ]
     },
     "execution_count": 8,
     "metadata": {},
     "output_type": "execute_result"
    }
   ],
   "source": [
    "df['vehicle_type'].value_counts()"
   ]
  },
  {
   "cell_type": "code",
   "execution_count": 9,
   "metadata": {},
   "outputs": [
    {
     "data": {
      "image/png": "[encoded data removed]",
      "text/plain": [
       "<Figure size 720x360 with 1 Axes>"
      ]
     },
     "metadata": {
      "needs_background": "light"
     },
     "output_type": "display_data"
    }
   ],
   "source": [
    "df['vehicle_type'].value_counts().plot.bar(x='transport', figsize=(10,5), fontsize=20, sort_columns=True)\n",
    "plt.ylabel('Count', fontsize=15)\n",
    "plt.title('Vehicle Type', fontsize=20)\n",
    "plt.savefig('vehicle_type.png', bbox_inches='tight',transparent=True)"
   ]
  },
  {
   "cell_type": "code",
   "execution_count": 10,
   "metadata": {},
   "outputs": [
    {
     "data": {
      "text/plain": [
       "Fries                  76\n",
       "Cheese Fries           35\n",
       "Shackburger            31\n",
       "Chicken                30\n",
       "Shack Burger           29\n",
       "B'day Cake Truffles    26\n",
       "Hamburger              26\n",
       "Classic Beef           24\n",
       "ShackBurger            24\n",
       "Cheeseburger           23\n",
       "Name: item_name, dtype: int64"
      ]
     },
     "execution_count": 10,
     "metadata": {},
     "output_type": "execute_result"
    }
   ],
   "source": [
    "df['item_name'].value_counts()[:10]"
   ]
  },
  {
   "cell_type": "code",
   "execution_count": 11,
   "metadata": {},
   "outputs": [
    {
     "data": {
      "image/png": "[encoded data removed]",
      "text/plain": [
       "<Figure size 720x360 with 1 Axes>"
      ]
     },
     "metadata": {
      "needs_background": "light"
     },
     "output_type": "display_data"
    }
   ],
   "source": [
    "df['item_name'].value_counts()[:5].plot.bar(x='transport', figsize=(10,5), fontsize=20, sort_columns=True)\n",
    "plt.ylabel('Count', fontsize=15)\n",
    "plt.title('Top 5 Items', fontsize=20)\n",
    "plt.savefig('Top5.png', bbox_inches='tight',transparent=True)"
   ]
  },
  {
   "cell_type": "code",
   "execution_count": 12,
   "metadata": {},
   "outputs": [
    {
     "data": {
      "text/plain": [
       "Italian           504\n",
       "Burger            454\n",
       "Japanese          433\n",
       "American          405\n",
       "Chinese           332\n",
       "Dessert           315\n",
       "Sushi             253\n",
       "Salad             206\n",
       "Grocery Store     187\n",
       "Mexican           178\n",
       "Bakery            140\n",
       "BBQ               134\n",
       "Pizza             106\n",
       "Juice Bar          99\n",
       "Indian             91\n",
       "Donut              90\n",
       "Fast Food          83\n",
       "Seafood            81\n",
       "Vegetarian         73\n",
       "Middle Eastern     70\n",
       "Mediterranean      69\n",
       "Drug Store         68\n",
       "Gluten-Free        68\n",
       "Deli               65\n",
       "Coffee             61\n",
       "Name: place_category, dtype: int64"
      ]
     },
     "execution_count": 12,
     "metadata": {},
     "output_type": "execute_result"
    }
   ],
   "source": [
    "df['place_category'].value_counts()[:25]"
   ]
  },
  {
   "cell_type": "code",
   "execution_count": 13,
   "metadata": {},
   "outputs": [
    {
     "data": {
      "text/plain": [
       "Shake Shack                              311\n",
       "Momofuku Milk Bar                        186\n",
       "The Meatball Shop                        184\n",
       "Blue Ribbon Sushi                        151\n",
       "sweetgreen                               149\n",
       "Blue Ribbon Fried Chicken                133\n",
       "Whole Foods Market                       119\n",
       "Parm                                     102\n",
       "RedFarm Broadway                          93\n",
       "Mighty Quinn's BBQ                        90\n",
       "Chipotle Mexican Grill $1.99 Delivery     80\n",
       "Momofuku Noodle Bar                       74\n",
       "Hu Kitchen                                68\n",
       "Trader Joe's                              68\n",
       "TAO                                       67\n",
       "Han Dynasty                               66\n",
       "Sushi of Gari 46                          64\n",
       "Duane Reade                               64\n",
       "McDonald's                                62\n",
       "RedFarm Hudson                            60\n",
       "Name: pickup_place, dtype: int64"
      ]
     },
     "execution_count": 13,
     "metadata": {},
     "output_type": "execute_result"
    }
   ],
   "source": [
    "df['pickup_place'].value_counts()[:20]"
   ]
  },
  {
   "cell_type": "markdown",
   "metadata": {},
   "source": [
    "## jumpman Data"
   ]
  },
  {
   "cell_type": "code",
   "execution_count": 14,
   "metadata": {},
   "outputs": [
    {
     "data": {
      "text/plain": [
       "5214"
      ]
     },
     "execution_count": 14,
     "metadata": {},
     "output_type": "execute_result"
    }
   ],
   "source": [
    "df['delivery_id'].nunique()"
   ]
  },
  {
   "cell_type": "code",
   "execution_count": 52,
   "metadata": {},
   "outputs": [
    {
     "data": {
      "text/plain": [
       "1460296    5\n",
       "1286826    4\n",
       "1319971    4\n",
       "1475127    4\n",
       "1343610    4\n",
       "Name: delivery_id, dtype: int64"
      ]
     },
     "execution_count": 52,
     "metadata": {},
     "output_type": "execute_result"
    }
   ],
   "source": [
    "df['delivery_id'].value_counts()[:5]"
   ]
  },
  {
   "cell_type": "code",
   "execution_count": 15,
   "metadata": {},
   "outputs": [
    {
     "data": {
      "text/plain": [
       "0    1460296\n",
       "dtype: int64"
      ]
     },
     "execution_count": 15,
     "metadata": {},
     "output_type": "execute_result"
    }
   ],
   "source": [
    "df['delivery_id'].mode()"
   ]
  },
  {
   "cell_type": "code",
   "execution_count": 16,
   "metadata": {},
   "outputs": [
    {
     "data": {
      "text/plain": [
       "1.1474875335634829"
      ]
     },
     "execution_count": 16,
     "metadata": {},
     "output_type": "execute_result"
    }
   ],
   "source": [
    "df['delivery_id'].value_counts().mean()"
   ]
  },
  {
   "cell_type": "markdown",
   "metadata": {},
   "source": [
    "### Customer Data"
   ]
  },
  {
   "cell_type": "code",
   "execution_count": 17,
   "metadata": {},
   "outputs": [
    {
     "data": {
      "text/plain": [
       "3192"
      ]
     },
     "execution_count": 17,
     "metadata": {},
     "output_type": "execute_result"
    }
   ],
   "source": [
    "df['customer_id'].nunique()"
   ]
  },
  {
   "cell_type": "code",
   "execution_count": 18,
   "metadata": {},
   "outputs": [
    {
     "data": {
      "text/plain": [
       "369272    28\n",
       "52832     23\n",
       "275689    17\n",
       "125123    16\n",
       "91817     16\n",
       "58898     16\n",
       "100889    14\n",
       "115610    13\n",
       "250494    13\n",
       "301032    12\n",
       "276192    12\n",
       "47440     12\n",
       "64153     12\n",
       "259341    12\n",
       "60052     12\n",
       "270525    11\n",
       "95644     11\n",
       "59673     11\n",
       "66373     11\n",
       "121706    11\n",
       "Name: customer_id, dtype: int64"
      ]
     },
     "execution_count": 18,
     "metadata": {},
     "output_type": "execute_result"
    }
   ],
   "source": [
    "df['customer_id'].value_counts()[:20]"
   ]
  },
  {
   "cell_type": "code",
   "execution_count": 19,
   "metadata": {},
   "outputs": [
    {
     "data": {
      "text/plain": [
       "1.87437343358396"
      ]
     },
     "execution_count": 19,
     "metadata": {},
     "output_type": "execute_result"
    }
   ],
   "source": [
    "df['customer_id'].value_counts().mean()"
   ]
  },
  {
   "cell_type": "code",
   "execution_count": 20,
   "metadata": {},
   "outputs": [],
   "source": [
    "top_10_df_new = df['customer_id'].value_counts()"
   ]
  },
  {
   "cell_type": "code",
   "execution_count": 21,
   "metadata": {},
   "outputs": [
    {
     "data": {
      "text/plain": [
       "369272    28\n",
       "52832     23\n",
       "275689    17\n",
       "125123    16\n",
       "91817     16\n",
       "Name: customer_id, dtype: int64"
      ]
     },
     "execution_count": 21,
     "metadata": {},
     "output_type": "execute_result"
    }
   ],
   "source": [
    "top_10_df_new.head()"
   ]
  },
  {
   "cell_type": "code",
   "execution_count": 22,
   "metadata": {},
   "outputs": [],
   "source": [
    "top_10_df_new.columns = ['customer_id', 'orders']"
   ]
  },
  {
   "cell_type": "code",
   "execution_count": 23,
   "metadata": {},
   "outputs": [],
   "source": [
    "customer_index= df['customer_id']== 369272"
   ]
  },
  {
   "cell_type": "code",
   "execution_count": 24,
   "metadata": {},
   "outputs": [],
   "source": [
    "customer_df = df[customer_index]"
   ]
  },
  {
   "cell_type": "code",
   "execution_count": 25,
   "metadata": {},
   "outputs": [
    {
     "data": {
      "text/plain": [
       "Levain Bakery                    7\n",
       "Doughnut Plant Chelsea           4\n",
       "Blue Ribbon Sushi Bar & Grill    3\n",
       "Blue Ribbon Sushi                3\n",
       "BabyCakes NYC                    2\n",
       "Balthazar Boulangerie            2\n",
       "Magnolia Bakery                  2\n",
       "Candle Cafe West                 1\n",
       "Flex Mussels                     1\n",
       "Ess-a-Bagel                      1\n",
       "Baked By Melissa                 1\n",
       "Momofuku Milk Bar                1\n",
       "Name: pickup_place, dtype: int64"
      ]
     },
     "execution_count": 25,
     "metadata": {},
     "output_type": "execute_result"
    }
   ],
   "source": [
    "customer_df['pickup_place'].value_counts()"
   ]
  },
  {
   "cell_type": "markdown",
   "metadata": {},
   "source": [
    "## Boolean Indexes"
   ]
  },
  {
   "cell_type": "markdown",
   "metadata": {},
   "source": [
    "### Make an Index"
   ]
  },
  {
   "cell_type": "code",
   "execution_count": 26,
   "metadata": {},
   "outputs": [],
   "source": [
    "shake_index = df['pickup_place'] == 'Shake Shack'"
   ]
  },
  {
   "cell_type": "markdown",
   "metadata": {},
   "source": [
    "### Put Index into a Data Frame"
   ]
  },
  {
   "cell_type": "code",
   "execution_count": 27,
   "metadata": {},
   "outputs": [],
   "source": [
    "shake_df = df[shake_index] # selects the \"True\" rows recorded in the boolean"
   ]
  },
  {
   "cell_type": "code",
   "execution_count": 28,
   "metadata": {},
   "outputs": [
    {
     "data": {
      "text/html": [
       "<div>\n",
       "<style scoped>\n",
       "    .dataframe tbody tr th:only-of-type {\n",
       "        vertical-align: middle;\n",
       "    }\n",
       "\n",
       "    .dataframe tbody tr th {\n",
       "        vertical-align: top;\n",
       "    }\n",
       "\n",
       "    .dataframe thead th {\n",
       "        text-align: right;\n",
       "    }\n",
       "</style>\n",
       "<table border=\"1\" class=\"dataframe\">\n",
       "  <thead>\n",
       "    <tr style=\"text-align: right;\">\n",
       "      <th></th>\n",
       "      <th>delivery_id</th>\n",
       "      <th>customer_id</th>\n",
       "      <th>jumpman_id</th>\n",
       "      <th>vehicle_type</th>\n",
       "      <th>pickup_place</th>\n",
       "      <th>place_category</th>\n",
       "      <th>item_name</th>\n",
       "      <th>item_quantity</th>\n",
       "      <th>item_category_name</th>\n",
       "      <th>how_long_it_took_to_order</th>\n",
       "      <th>pickup_lat</th>\n",
       "      <th>pickup_lon</th>\n",
       "      <th>dropoff_lat</th>\n",
       "      <th>dropoff_lon</th>\n",
       "      <th>when_the_delivery_started</th>\n",
       "      <th>when_the_Jumpman_arrived_at_pickup</th>\n",
       "      <th>when_the_Jumpman_left_pickup</th>\n",
       "      <th>when_the_Jumpman_arrived_at_dropoff</th>\n",
       "    </tr>\n",
       "  </thead>\n",
       "  <tbody>\n",
       "    <tr>\n",
       "      <th>9</th>\n",
       "      <td>1417206</td>\n",
       "      <td>153816</td>\n",
       "      <td>157415</td>\n",
       "      <td>car</td>\n",
       "      <td>Shake Shack</td>\n",
       "      <td>Burger</td>\n",
       "      <td>Shackburger</td>\n",
       "      <td>1.0</td>\n",
       "      <td>Burgers</td>\n",
       "      <td>NaN</td>\n",
       "      <td>40.758457</td>\n",
       "      <td>-73.989140</td>\n",
       "      <td>40.743613</td>\n",
       "      <td>-73.977684</td>\n",
       "      <td>2014-10-21 21:18:37.909545</td>\n",
       "      <td>2014-10-21 21:20:14.434227</td>\n",
       "      <td>2014-10-21 21:47:03.624931</td>\n",
       "      <td>2014-10-21 21:59:26.081278</td>\n",
       "    </tr>\n",
       "    <tr>\n",
       "      <th>22</th>\n",
       "      <td>1320596</td>\n",
       "      <td>368663</td>\n",
       "      <td>125504</td>\n",
       "      <td>bicycle</td>\n",
       "      <td>Shake Shack</td>\n",
       "      <td>Burger</td>\n",
       "      <td>Shack-cago Dog</td>\n",
       "      <td>1.0</td>\n",
       "      <td>Flat-Top Dogs</td>\n",
       "      <td>NaN</td>\n",
       "      <td>40.780826</td>\n",
       "      <td>-73.976483</td>\n",
       "      <td>40.801488</td>\n",
       "      <td>-73.969690</td>\n",
       "      <td>2014-10-08 20:53:52.039403</td>\n",
       "      <td>2014-10-08 20:59:18.079384</td>\n",
       "      <td>2014-10-08 21:14:42.577492</td>\n",
       "      <td>2014-10-08 21:23:52.213217</td>\n",
       "    </tr>\n",
       "    <tr>\n",
       "      <th>48</th>\n",
       "      <td>1320822</td>\n",
       "      <td>149508</td>\n",
       "      <td>43955</td>\n",
       "      <td>bicycle</td>\n",
       "      <td>Shake Shack</td>\n",
       "      <td>Burger</td>\n",
       "      <td>Cheese Fries</td>\n",
       "      <td>1.0</td>\n",
       "      <td>Fries</td>\n",
       "      <td>NaN</td>\n",
       "      <td>40.715279</td>\n",
       "      <td>-74.014860</td>\n",
       "      <td>40.716168</td>\n",
       "      <td>-74.003693</td>\n",
       "      <td>2014-10-08 21:18:11.900324</td>\n",
       "      <td>2014-10-08 21:28:15.142224</td>\n",
       "      <td>2014-10-08 21:47:35.029385</td>\n",
       "      <td>2014-10-08 21:54:36.734336</td>\n",
       "    </tr>\n",
       "    <tr>\n",
       "      <th>64</th>\n",
       "      <td>1414452</td>\n",
       "      <td>148033</td>\n",
       "      <td>128139</td>\n",
       "      <td>car</td>\n",
       "      <td>Shake Shack</td>\n",
       "      <td>Burger</td>\n",
       "      <td>NaN</td>\n",
       "      <td>NaN</td>\n",
       "      <td>NaN</td>\n",
       "      <td>NaN</td>\n",
       "      <td>40.682770</td>\n",
       "      <td>-73.976532</td>\n",
       "      <td>40.693256</td>\n",
       "      <td>-73.966173</td>\n",
       "      <td>2014-10-21 14:57:29.338613</td>\n",
       "      <td>2014-10-21 15:30:02.259968</td>\n",
       "      <td>2014-10-21 15:31:21.050095</td>\n",
       "      <td>2014-10-21 15:37:44.276996</td>\n",
       "    </tr>\n",
       "    <tr>\n",
       "      <th>137</th>\n",
       "      <td>1299559</td>\n",
       "      <td>148327</td>\n",
       "      <td>118093</td>\n",
       "      <td>scooter</td>\n",
       "      <td>Shake Shack</td>\n",
       "      <td>Burger</td>\n",
       "      <td>Fries</td>\n",
       "      <td>1.0</td>\n",
       "      <td>Fries</td>\n",
       "      <td>NaN</td>\n",
       "      <td>40.692146</td>\n",
       "      <td>-73.988865</td>\n",
       "      <td>40.701972</td>\n",
       "      <td>-73.987036</td>\n",
       "      <td>2014-10-05 12:30:23.27789</td>\n",
       "      <td>2014-10-05 13:07:23.30729</td>\n",
       "      <td>2014-10-05 13:26:13.134353</td>\n",
       "      <td>2014-10-05 13:35:38.318512</td>\n",
       "    </tr>\n",
       "  </tbody>\n",
       "</table>\n",
       "</div>"
      ],
      "text/plain": [
       "     delivery_id  customer_id  jumpman_id vehicle_type pickup_place  \\\n",
       "9        1417206       153816      157415          car  Shake Shack   \n",
       "22       1320596       368663      125504      bicycle  Shake Shack   \n",
       "48       1320822       149508       43955      bicycle  Shake Shack   \n",
       "64       1414452       148033      128139          car  Shake Shack   \n",
       "137      1299559       148327      118093      scooter  Shake Shack   \n",
       "\n",
       "    place_category       item_name  item_quantity item_category_name  \\\n",
       "9           Burger     Shackburger            1.0            Burgers   \n",
       "22          Burger  Shack-cago Dog            1.0      Flat-Top Dogs   \n",
       "48          Burger    Cheese Fries            1.0              Fries   \n",
       "64          Burger             NaN            NaN                NaN   \n",
       "137         Burger           Fries            1.0              Fries   \n",
       "\n",
       "    how_long_it_took_to_order  pickup_lat  pickup_lon  dropoff_lat  \\\n",
       "9                         NaN   40.758457  -73.989140    40.743613   \n",
       "22                        NaN   40.780826  -73.976483    40.801488   \n",
       "48                        NaN   40.715279  -74.014860    40.716168   \n",
       "64                        NaN   40.682770  -73.976532    40.693256   \n",
       "137                       NaN   40.692146  -73.988865    40.701972   \n",
       "\n",
       "     dropoff_lon   when_the_delivery_started  \\\n",
       "9     -73.977684  2014-10-21 21:18:37.909545   \n",
       "22    -73.969690  2014-10-08 20:53:52.039403   \n",
       "48    -74.003693  2014-10-08 21:18:11.900324   \n",
       "64    -73.966173  2014-10-21 14:57:29.338613   \n",
       "137   -73.987036   2014-10-05 12:30:23.27789   \n",
       "\n",
       "    when_the_Jumpman_arrived_at_pickup when_the_Jumpman_left_pickup  \\\n",
       "9           2014-10-21 21:20:14.434227   2014-10-21 21:47:03.624931   \n",
       "22          2014-10-08 20:59:18.079384   2014-10-08 21:14:42.577492   \n",
       "48          2014-10-08 21:28:15.142224   2014-10-08 21:47:35.029385   \n",
       "64          2014-10-21 15:30:02.259968   2014-10-21 15:31:21.050095   \n",
       "137          2014-10-05 13:07:23.30729   2014-10-05 13:26:13.134353   \n",
       "\n",
       "    when_the_Jumpman_arrived_at_dropoff  \n",
       "9            2014-10-21 21:59:26.081278  \n",
       "22           2014-10-08 21:23:52.213217  \n",
       "48           2014-10-08 21:54:36.734336  \n",
       "64           2014-10-21 15:37:44.276996  \n",
       "137          2014-10-05 13:35:38.318512  "
      ]
     },
     "execution_count": 28,
     "metadata": {},
     "output_type": "execute_result"
    }
   ],
   "source": [
    "shake_df.head()"
   ]
  },
  {
   "cell_type": "markdown",
   "metadata": {},
   "source": [
    "### Popular Items at Shake Shack"
   ]
  },
  {
   "cell_type": "code",
   "execution_count": 29,
   "metadata": {},
   "outputs": [
    {
     "data": {
      "text/plain": [
       "Fries             60\n",
       "Cheese Fries      33\n",
       "Shackburger       31\n",
       "Shack Burger      29\n",
       "ShackBurger       24\n",
       "Hamburger         21\n",
       "Fountain Soda     17\n",
       "Shake             15\n",
       "Original Shake    12\n",
       "Hot Dog            8\n",
       "Smoke Shack        8\n",
       "Shack Stack        4\n",
       "SmokeShack         4\n",
       "Chicken Dog        4\n",
       "DogMeister         3\n",
       "Name: item_name, dtype: int64"
      ]
     },
     "execution_count": 29,
     "metadata": {},
     "output_type": "execute_result"
    }
   ],
   "source": [
    "shake_df['item_name'].value_counts()[:15]"
   ]
  },
  {
   "cell_type": "code",
   "execution_count": 30,
   "metadata": {},
   "outputs": [
    {
     "data": {
      "image/png": "[encoded data removed]",
      "text/plain": [
       "<Figure size 720x360 with 1 Axes>"
      ]
     },
     "metadata": {
      "needs_background": "light"
     },
     "output_type": "display_data"
    }
   ],
   "source": [
    "shake_df['item_name'].value_counts()[:8].plot.bar(x='item', figsize=(10,5), fontsize=20, sort_columns=True)\n",
    "plt.ylabel('Count', fontsize=15)\n",
    "plt.title('Popular Items @ Shake Shack', fontsize=20)\n",
    "plt.savefig('plotname.png', bbox_inches='tight',transparent=True)"
   ]
  },
  {
   "cell_type": "markdown",
   "metadata": {},
   "source": [
    "## Time Analysis"
   ]
  },
  {
   "cell_type": "code",
   "execution_count": 31,
   "metadata": {},
   "outputs": [
    {
     "data": {
      "text/plain": [
       "delivery_id                              int64\n",
       "customer_id                              int64\n",
       "jumpman_id                               int64\n",
       "vehicle_type                            object\n",
       "pickup_place                            object\n",
       "place_category                          object\n",
       "item_name                               object\n",
       "item_quantity                          float64\n",
       "item_category_name                      object\n",
       "how_long_it_took_to_order               object\n",
       "pickup_lat                             float64\n",
       "pickup_lon                             float64\n",
       "dropoff_lat                            float64\n",
       "dropoff_lon                            float64\n",
       "when_the_delivery_started               object\n",
       "when_the_Jumpman_arrived_at_pickup      object\n",
       "when_the_Jumpman_left_pickup            object\n",
       "when_the_Jumpman_arrived_at_dropoff     object\n",
       "dtype: object"
      ]
     },
     "execution_count": 31,
     "metadata": {},
     "output_type": "execute_result"
    }
   ],
   "source": [
    "df.dtypes"
   ]
  },
  {
   "cell_type": "code",
   "execution_count": 32,
   "metadata": {},
   "outputs": [],
   "source": [
    "df['when_the_delivery_started']=pd.to_datetime(df.when_the_delivery_started)\n",
    "df['when_the_Jumpman_arrived_at_pickup']=pd.to_datetime(df.when_the_Jumpman_arrived_at_pickup)\n",
    "df['when_the_Jumpman_left_pickup']=pd.to_datetime(df.when_the_Jumpman_left_pickup)\n",
    "df['when_the_Jumpman_arrived_at_dropoff']=pd.to_datetime(df.when_the_Jumpman_arrived_at_dropoff)"
   ]
  },
  {
   "cell_type": "code",
   "execution_count": 33,
   "metadata": {},
   "outputs": [
    {
     "data": {
      "text/plain": [
       "delivery_id                                     int64\n",
       "customer_id                                     int64\n",
       "jumpman_id                                      int64\n",
       "vehicle_type                                   object\n",
       "pickup_place                                   object\n",
       "place_category                                 object\n",
       "item_name                                      object\n",
       "item_quantity                                 float64\n",
       "item_category_name                             object\n",
       "how_long_it_took_to_order                      object\n",
       "pickup_lat                                    float64\n",
       "pickup_lon                                    float64\n",
       "dropoff_lat                                   float64\n",
       "dropoff_lon                                   float64\n",
       "when_the_delivery_started              datetime64[ns]\n",
       "when_the_Jumpman_arrived_at_pickup     datetime64[ns]\n",
       "when_the_Jumpman_left_pickup           datetime64[ns]\n",
       "when_the_Jumpman_arrived_at_dropoff    datetime64[ns]\n",
       "dtype: object"
      ]
     },
     "execution_count": 33,
     "metadata": {},
     "output_type": "execute_result"
    }
   ],
   "source": [
    "df.dtypes"
   ]
  },
  {
   "cell_type": "markdown",
   "metadata": {},
   "source": [
    "### Day of Week"
   ]
  },
  {
   "cell_type": "code",
   "execution_count": null,
   "metadata": {},
   "outputs": [],
   "source": []
  },
  {
   "cell_type": "markdown",
   "metadata": {},
   "source": [
    "### Start to Drop Off"
   ]
  },
  {
   "cell_type": "code",
   "execution_count": 34,
   "metadata": {},
   "outputs": [],
   "source": [
    "import datetime\n",
    "from dateutil.relativedelta import relativedelta\n",
    "from datetime import date"
   ]
  },
  {
   "cell_type": "code",
   "execution_count": 35,
   "metadata": {},
   "outputs": [
    {
     "data": {
      "text/plain": [
       "0     1\n",
       "1     1\n",
       "2   -35\n",
       "3   -22\n",
       "4    41\n",
       "dtype: int64"
      ]
     },
     "execution_count": 35,
     "metadata": {},
     "output_type": "execute_result"
    }
   ],
   "source": [
    "df['when_the_Jumpman_arrived_at_dropoff'].dt.minute.head() - df['when_the_delivery_started'].dt.minute.head()"
   ]
  },
  {
   "cell_type": "code",
   "execution_count": 36,
   "metadata": {},
   "outputs": [],
   "source": [
    "df['diff_minutes'] = df['when_the_Jumpman_arrived_at_dropoff'] - df['when_the_delivery_started']\n",
    "df['diff_minutes']=df['diff_minutes']/np.timedelta64(1,'m')"
   ]
  },
  {
   "cell_type": "code",
   "execution_count": 37,
   "metadata": {},
   "outputs": [],
   "source": [
    "df['day_of_week'] = df['when_the_delivery_started'].dt.weekday_name"
   ]
  },
  {
   "cell_type": "code",
   "execution_count": 38,
   "metadata": {},
   "outputs": [
    {
     "data": {
      "text/plain": [
       "count       5983\n",
       "unique         7\n",
       "top       Sunday\n",
       "freq        1119\n",
       "Name: day_of_week, dtype: object"
      ]
     },
     "execution_count": 38,
     "metadata": {},
     "output_type": "execute_result"
    }
   ],
   "source": [
    "df['day_of_week'].describe()"
   ]
  },
  {
   "cell_type": "code",
   "execution_count": 50,
   "metadata": {},
   "outputs": [
    {
     "data": {
      "image/png": "[encoded data removed]",
      "text/plain": [
       "<Figure size 720x360 with 1 Axes>"
      ]
     },
     "metadata": {
      "needs_background": "light"
     },
     "output_type": "display_data"
    }
   ],
   "source": [
    "df['day_of_week'].value_counts().plot.bar(figsize=(10,5), fontsize=20)\n",
    "plt.xlabel('Day of Week', size=20) \n",
    "plt.ylabel('Count', size = 20)\n",
    "plt.title('Orders by Day', size=25)\n",
    "plt.savefig('days.png', bbox_inches='tight',transparent=True)"
   ]
  },
  {
   "cell_type": "code",
   "execution_count": null,
   "metadata": {},
   "outputs": [],
   "source": [
    "df['diff_minutes'].head()"
   ]
  },
  {
   "cell_type": "code",
   "execution_count": null,
   "metadata": {},
   "outputs": [],
   "source": [
    "df['diff_minutes'].describe()"
   ]
  },
  {
   "cell_type": "code",
   "execution_count": null,
   "metadata": {},
   "outputs": [],
   "source": [
    "plt.hist(df['diff_minutes'],range=[0, 100])\n",
    "plt.xlabel('Minutes') \n",
    "plt.ylabel('Count')\n",
    "plt.title('Wait Times', size=16)\n",
    "plt.savefig('wait-times.png', bbox_inches='tight',transparent=True)"
   ]
  }
 ],
 "metadata": {
  "kernelspec": {
   "display_name": "Python 3",
   "language": "python",
   "name": "python3"
  },
  "language_info": {
   "codemirror_mode": {
    "name": "ipython",
    "version": 3
   },
   "file_extension": ".py",
   "mimetype": "text/x-python",
   "name": "python",
   "nbconvert_exporter": "python",
   "pygments_lexer": "ipython3",
   "version": "3.7.0"
  }
 },
 "nbformat": 4,
 "nbformat_minor": 2
}
